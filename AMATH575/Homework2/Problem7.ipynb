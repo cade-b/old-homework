{
 "cells": [
  {
   "cell_type": "code",
   "execution_count": 14,
   "id": "da111cf0",
   "metadata": {},
   "outputs": [],
   "source": [
    "using Plots"
   ]
  },
  {
   "cell_type": "markdown",
   "id": "51af1677",
   "metadata": {},
   "source": [
    "Consider the standard map \n",
    "\\begin{equation*}\n",
    "    \\left\\{\\begin{array}{l}\n",
    "\\theta_{n+1}=(\\theta_{n}+I_{n}-\\frac{K}{2 \\pi} \\sin 2 \\pi \\theta_{n}) \\bmod 1 \\\\\n",
    "I_{n+1}=I_{n}-\\frac{K}{2 \\pi} \\sin 2 \\pi \\theta_{n}\n",
    "\\end{array}\\right.\n",
    "\\end{equation*}\n",
    "with $K=1$."
   ]
  },
  {
   "cell_type": "code",
   "execution_count": 8,
   "id": "435e197c",
   "metadata": {},
   "outputs": [],
   "source": [
    "K = 1;"
   ]
  },
  {
   "cell_type": "code",
   "execution_count": 11,
   "id": "37ae9fe8",
   "metadata": {},
   "outputs": [
    {
     "data": {
      "text/plain": [
       "f2 (generic function with 1 method)"
      ]
     },
     "execution_count": 11,
     "metadata": {},
     "output_type": "execute_result"
    }
   ],
   "source": [
    "f1(θ,I) = mod(θ+I-K*(sin(2πθ))/2π,1)\n",
    "f2(θ,I) = mod(I - K*(sin(2πθ))/2π,1)"
   ]
  },
  {
   "cell_type": "code",
   "execution_count": 13,
   "id": "b0f589cf",
   "metadata": {},
   "outputs": [
    {
     "data": {
      "text/plain": [
       "f2_inv (generic function with 1 method)"
      ]
     },
     "execution_count": 13,
     "metadata": {},
     "output_type": "execute_result"
    }
   ],
   "source": [
    "f1_inv(θ,I) = mod(I-θ,1)\n",
    "f2_inv(θ,I) = mod(I-K*(sin(2π(I-θ)))/2π)"
   ]
  },
  {
   "cell_type": "markdown",
   "id": "64751934",
   "metadata": {},
   "source": [
    "## Part c"
   ]
  },
  {
   "cell_type": "code",
   "execution_count": null,
   "id": "00ab5713",
   "metadata": {},
   "outputs": [],
   "source": []
  }
 ],
 "metadata": {
  "kernelspec": {
   "display_name": "Julia 1.7.2",
   "language": "julia",
   "name": "julia-1.7"
  },
  "language_info": {
   "file_extension": ".jl",
   "mimetype": "application/julia",
   "name": "julia",
   "version": "1.7.2"
  }
 },
 "nbformat": 4,
 "nbformat_minor": 5
}
