{
 "cells": [
  {
   "cell_type": "code",
   "execution_count": 1,
   "id": "9f0fa122",
   "metadata": {},
   "outputs": [
    {
     "data": {
      "text/plain": [
       "0.0273972602739726"
      ]
     },
     "execution_count": 1,
     "metadata": {},
     "output_type": "execute_result"
    }
   ],
   "source": [
    "using Plots, Distributions, Random\n",
    "\n",
    "u, T, s = 3.4e-5, 3/365, 0.3\n",
    "keepExtinct = false\n",
    "Tₑ = 10/365. #final time in years"
   ]
  },
  {
   "cell_type": "code",
   "execution_count": 2,
   "id": "9b62ee06",
   "metadata": {},
   "outputs": [
    {
     "data": {
      "text/plain": [
       "simul (generic function with 1 method)"
      ]
     },
     "execution_count": 2,
     "metadata": {},
     "output_type": "execute_result"
    }
   ],
   "source": [
    "function simul(u, T, s, Tₑ, keepExtinct)\n",
    "    n = convert(Int64,ceil(Tₑ/T))\n",
    "\n",
    "    x₁ = zeros(Int64,n+1)\n",
    "    x₂ = zeros(Int64,n+1)\n",
    "    x₁[1], x₂[1] = 1, 0\n",
    "\n",
    "    d₁ = (1-s)/2\n",
    "    d₂ = (1-s)^2/2\n",
    "    b₁ = 1-d₁\n",
    "    b₂ = 1-d₂\n",
    "    probs₁ = [b₁*(1-u), d₁, b₁*u]\n",
    "    probs₂ = [b₂*(1-u), d₂, b₂*u]\n",
    "\n",
    "    for i = 2:n+1\n",
    "        dist₁ = Multinomial(x₁[i-1], probs₁)\n",
    "        dist₂ = Multinomial(x₂[i-1], probs₂)\n",
    "        result₁ = rand(dist₁)\n",
    "        result₂ = rand(dist₂)\n",
    "        x₁[i] = x₁[i-1]+result₁[1]-result₁[2]\n",
    "        x₂[i] = x₂[i-1]+result₂[1]-result₂[2]+result₁[3]\n",
    "        if (x₁[i]==0 & x₂[i]==0) & keepExtinct == false\n",
    "            return simul(u, T, s, Tₑ, keepExtinct)\n",
    "        end\n",
    "    end\n",
    "    return x₁, x₂\n",
    "end"
   ]
  },
  {
   "cell_type": "code",
   "execution_count": 3,
   "id": "f998631e",
   "metadata": {},
   "outputs": [
    {
     "ename": "LoadError",
     "evalue": "StackOverflowError:",
     "output_type": "error",
     "traceback": [
      "StackOverflowError:",
      "",
      "Stacktrace:",
      " [1] rand(rng::Random._GLOBAL_RNG, s::Distributions.BinomialGeomSampler)",
      "   @ Distributions ~/.julia/packages/Distributions/O4ZJg/src/samplers/binomial.jl:47"
     ]
    }
   ],
   "source": [
    "num1, num2 = simul(u, T, s, Tₑ, keepExtinct)"
   ]
  },
  {
   "cell_type": "code",
   "execution_count": null,
   "id": "b0db5133",
   "metadata": {},
   "outputs": [],
   "source": []
  }
 ],
 "metadata": {
  "kernelspec": {
   "display_name": "Julia 1.7.2",
   "language": "julia",
   "name": "julia-1.7"
  },
  "language_info": {
   "file_extension": ".jl",
   "mimetype": "application/julia",
   "name": "julia",
   "version": "1.7.2"
  }
 },
 "nbformat": 4,
 "nbformat_minor": 5
}
