{
 "cells": [
  {
   "cell_type": "code",
   "execution_count": 38,
   "id": "5d3cbc9b",
   "metadata": {},
   "outputs": [
    {
     "data": {
      "text/plain": [
       "TaskLocalRNG()"
      ]
     },
     "execution_count": 38,
     "metadata": {},
     "output_type": "execute_result"
    }
   ],
   "source": [
    "using Plots, Distributions, Random\n",
    "\n",
    "u, T, s = 3.4e-5, 3/365, 0.004\n",
    "keepExtinct = false\n",
    "Tₑ = 25. #final time in years\n",
    "\n",
    "Random.seed!(1234)"
   ]
  },
  {
   "cell_type": "code",
   "execution_count": 39,
   "id": "be07a6ac",
   "metadata": {},
   "outputs": [
    {
     "data": {
      "text/plain": [
       "simul (generic function with 1 method)"
      ]
     },
     "execution_count": 39,
     "metadata": {},
     "output_type": "execute_result"
    }
   ],
   "source": [
    "function simul(u, T, s, Tₑ, keepExtinct)\n",
    "    n = convert(Int64,ceil(Tₑ/T))\n",
    "\n",
    "    x₁ = zeros(Int64,n+1)\n",
    "    x₂ = zeros(Int64,n+1)\n",
    "    x₁[1], x₂[1] = 1, 0\n",
    "\n",
    "    d₁ = (1-s)/2\n",
    "    d₂ = (1-s)^2/2\n",
    "    b₁ = 1-d₁\n",
    "    b₂ = 1-d₂\n",
    "    probs₁ = [b₁*(1-u), d₁, b₁*u]\n",
    "    probs₂ = [b₂*(1-u), d₂, b₂*u]\n",
    "\n",
    "    for i = 2:n+1\n",
    "        dist₁ = Multinomial(x₁[i-1], probs₁)\n",
    "        dist₂ = Multinomial(x₂[i-1], probs₂)\n",
    "        result₁ = rand(dist₁)\n",
    "        result₂ = rand(dist₂)\n",
    "        x₁[i] = x₁[i-1]+result₁[1]-result₁[2]\n",
    "        print(x₁[i])\n",
    "        x₂[i] = x₂[i-1]+result₂[1]-result₂[2]+result₁[3]\n",
    "        if ((x₁[i]==0 && x₂[i]==0) && keepExtinct == false)\n",
    "            return simul(u, T, s, Tₑ, false)\n",
    "        end\n",
    "    end\n",
    "    return x₁, x₂\n",
    "end"
   ]
  },
  {
   "cell_type": "code",
   "execution_count": 40,
   "id": "88ae8a33",
   "metadata": {},
   "outputs": [
    {
     "data": {
      "text/plain": [
       "([1, 2, 4, 4, 4, 4, 4, 6, 10, 10  …  5750996, 5774151, 5800696, 5824171, 5846630, 5875895, 5898795, 5922002, 5942931, 5966414], [0, 0, 0, 0, 0, 0, 0, 0, 0, 0  …  33318638, 33587273, 33851049, 34122946, 34390764, 34663737, 34937460, 35224231, 35497396, 35782681])"
      ]
     },
     "execution_count": 40,
     "metadata": {},
     "output_type": "execute_result"
    }
   ],
   "source": [
    "num1, num2 = simul(u, T, s, Tₑ, keepExtinct)"
   ]
  },
  {
   "cell_type": "code",
   "execution_count": null,
   "id": "02e1340c",
   "metadata": {},
   "outputs": [],
   "source": []
  },
  {
   "cell_type": "code",
   "execution_count": null,
   "id": "cb1e3b3d",
   "metadata": {},
   "outputs": [],
   "source": []
  }
 ],
 "metadata": {
  "kernelspec": {
   "display_name": "Julia 1.7.2",
   "language": "julia",
   "name": "julia-1.7"
  },
  "language_info": {
   "file_extension": ".jl",
   "mimetype": "application/julia",
   "name": "julia",
   "version": "1.7.2"
  }
 },
 "nbformat": 4,
 "nbformat_minor": 5
}
